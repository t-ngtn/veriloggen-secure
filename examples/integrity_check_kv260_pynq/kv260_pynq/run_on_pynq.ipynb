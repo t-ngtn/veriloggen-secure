{
 "cells": [
  {
   "cell_type": "code",
   "execution_count": 8,
   "id": "97fd40c9",
   "metadata": {},
   "outputs": [
    {
     "name": "stdout",
     "output_type": "stream",
     "text": [
      "3.0.1\n"
     ]
    }
   ],
   "source": [
    "import time\n",
    "import pynq\n",
    "from pynq import Overlay, PL\n",
    "PL.reset()\n",
    "print(pynq.__version__)\n"
   ]
  },
  {
   "cell_type": "code",
   "execution_count": 9,
   "id": "210f671e",
   "metadata": {},
   "outputs": [
    {
     "data": {
      "text/plain": [
       "dict_keys(['integrity_check_0', 'zynq_ultra_ps_e_0'])"
      ]
     },
     "execution_count": 9,
     "metadata": {},
     "output_type": "execute_result"
    }
   ],
   "source": [
    "bitfile = \"design_1.bit\"\n",
    "overlay = Overlay(bitfile)\n",
    "overlay.ip_dict.keys()"
   ]
  },
  {
   "cell_type": "code",
   "execution_count": 10,
   "id": "5da65c25",
   "metadata": {},
   "outputs": [],
   "source": [
    "integrity_check = overlay.integrity_check_0"
   ]
  },
  {
   "cell_type": "code",
   "execution_count": 11,
   "id": "b2a9d09c",
   "metadata": {},
   "outputs": [
    {
     "data": {
      "text/plain": [
       "['__class__',\n",
       " '__delattr__',\n",
       " '__dict__',\n",
       " '__dir__',\n",
       " '__doc__',\n",
       " '__eq__',\n",
       " '__format__',\n",
       " '__ge__',\n",
       " '__getattribute__',\n",
       " '__gt__',\n",
       " '__hash__',\n",
       " '__init__',\n",
       " '__init_subclass__',\n",
       " '__le__',\n",
       " '__lt__',\n",
       " '__module__',\n",
       " '__ne__',\n",
       " '__new__',\n",
       " '__reduce__',\n",
       " '__reduce_ex__',\n",
       " '__repr__',\n",
       " '__setattr__',\n",
       " '__sizeof__',\n",
       " '__str__',\n",
       " '__subclasshook__',\n",
       " '__weakref__',\n",
       " '_call',\n",
       " '_fullpath',\n",
       " '_gpio',\n",
       " '_interrupts',\n",
       " '_register_name',\n",
       " '_registers',\n",
       " '_setup_packet_prototype',\n",
       " '_start_ert',\n",
       " '_start_sw',\n",
       " 'device',\n",
       " 'mmio',\n",
       " 'read',\n",
       " 'register_map',\n",
       " 'signature',\n",
       " 'write']"
      ]
     },
     "execution_count": 11,
     "metadata": {},
     "output_type": "execute_result"
    }
   ],
   "source": [
    "dir(integrity_check)"
   ]
  },
  {
   "cell_type": "code",
   "execution_count": 24,
   "id": "aca99d52",
   "metadata": {},
   "outputs": [
    {
     "name": "stdout",
     "output_type": "stream",
     "text": [
      "time: 0.0011433420004323125 second\n",
      "is_secure: 0\n"
     ]
    }
   ],
   "source": [
    "\n",
    "start_time = time.perf_counter()\n",
    "\n",
    "integrity_check.write(0 * 4, 1)\n",
    "\n",
    "while True:\n",
    "    busy = integrity_check.read(1 * 4)\n",
    "    if not busy:\n",
    "        break\n",
    "\n",
    "end_time = time.perf_counter()\n",
    "print(f\"time: {end_time - start_time} second\")\n",
    "\n",
    "is_secure = integrity_check.read(2 * 4)\n",
    "print(f\"is_secure: {is_secure}\")\n"
   ]
  }
 ],
 "metadata": {
  "kernelspec": {
   "display_name": "Python 3 (ipykernel)",
   "language": "python",
   "name": "python3"
  },
  "language_info": {
   "codemirror_mode": {
    "name": "ipython",
    "version": 3
   },
   "file_extension": ".py",
   "mimetype": "text/x-python",
   "name": "python",
   "nbconvert_exporter": "python",
   "pygments_lexer": "ipython3",
   "version": "3.10.12"
  }
 },
 "nbformat": 4,
 "nbformat_minor": 5
}
